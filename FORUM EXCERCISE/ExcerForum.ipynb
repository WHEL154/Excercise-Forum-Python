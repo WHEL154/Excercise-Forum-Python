{
 "cells": [
  {
   "cell_type": "code",
   "execution_count": 1,
   "metadata": {},
   "outputs": [
    {
     "name": "stdout",
     "output_type": "stream",
     "text": [
      "the area of the circle is: 154.0\n"
     ]
    }
   ],
   "source": [
    "# EXCERCISE 1\n",
    "r = eval(input(\"Enter the Radiues of the circle:\"))\n",
    "area = 22/7 * r * r\n",
    "print(\"the area of the circle is:\", area)\n"
   ]
  },
  {
   "cell_type": "code",
   "execution_count": 15,
   "metadata": {},
   "outputs": [
    {
     "name": "stdout",
     "output_type": "stream",
     "text": [
      "rahman farrel \n"
     ]
    }
   ],
   "source": [
    "# EXERCISE 2\n",
    "a = input(\"Enter first name:\")\n",
    "b = input(\"Enter last name:\")\n",
    "name = (a, b)\n",
    "\n",
    "print(f\"{b} {a}\")"
   ]
  },
  {
   "cell_type": "code",
   "execution_count": 22,
   "metadata": {},
   "outputs": [
    {
     "name": "stdout",
     "output_type": "stream",
     "text": [
      "Red Black\n"
     ]
    }
   ],
   "source": [
    "#EXCERCISE 3\n",
    "colorlist = [\"Red\",\"Green\",\"White\",\"Black\"]\n",
    "print(colorlist[0], colorlist[3])"
   ]
  },
  {
   "cell_type": "code",
   "execution_count": 17,
   "metadata": {},
   "outputs": [
    {
     "name": "stdout",
     "output_type": "stream",
     "text": [
      "39\n"
     ]
    }
   ],
   "source": [
    "#EXCERCISE 4\n",
    "n = int(input(\"enter a number:\"))\n",
    "\n",
    "print(n+n**2+n**3)\n"
   ]
  },
  {
   "cell_type": "code",
   "execution_count": 27,
   "metadata": {},
   "outputs": [
    {
     "name": "stdout",
     "output_type": "stream",
     "text": [
      "38808.0\n"
     ]
    }
   ],
   "source": [
    "#EXCERCISE 5\n",
    "r = eval(input(\"enter the radius:\"))\n",
    "volume = 4/3 * 22/7 * r**3\n",
    "print(volume)"
   ]
  },
  {
   "cell_type": "code",
   "execution_count": 18,
   "metadata": {},
   "outputs": [
    {
     "name": "stdout",
     "output_type": "stream",
     "text": [
      "2\n"
     ]
    }
   ],
   "source": [
    "#EXCERCISE 6\n",
    "n = int(input(\"enter number:\"))\n",
    "x = 17\n",
    "if n < x:\n",
    "    print(abs(n - x))\n",
    "else:\n",
    "    print(abs(n - x)*2)\n"
   ]
  },
  {
   "cell_type": "code",
   "execution_count": 2,
   "metadata": {},
   "outputs": [
    {
     "name": "stdout",
     "output_type": "stream",
     "text": [
      "9\n"
     ]
    }
   ],
   "source": [
    "#EXCERCISE 7\n",
    "x = eval(input(\"enter first number:\"))\n",
    "y = eval(input(\"enter first number:\"))\n",
    "z = eval(input(\"enter first number:\"))\n",
    "\n",
    "sum = x + y + z\n",
    "\n",
    "if x == y == z:\n",
    "    print(sum*3)\n",
    "else:\n",
    "    print(sum)\n"
   ]
  },
  {
   "cell_type": "code",
   "execution_count": 4,
   "metadata": {},
   "outputs": [
    {
     "name": "stdout",
     "output_type": "stream",
     "text": [
      "13 is an odd number\n"
     ]
    }
   ],
   "source": [
    "#EXCERCISE 8\n",
    "x = eval(input(\"enter a number:\"))\n",
    "\n",
    "if (x % 2) == 0:\n",
    "    print(x, \"is an even number\")\n",
    "else:\n",
    "    print(x, \"is an odd number\")\n",
    "    \n",
    "\n"
   ]
  },
  {
   "cell_type": "code",
   "execution_count": 23,
   "metadata": {},
   "outputs": [
    {
     "name": "stdout",
     "output_type": "stream",
     "text": [
      "a it is a vowel\n"
     ]
    }
   ],
   "source": [
    "#EXCERCISE 9\n",
    "vowel = [\"a\",\"i\",\"u\",\"e\",\"o\"]\n",
    "x = input(\"wnter a letter:\")\n",
    "\n",
    "if x.casefold() in vowel:\n",
    "    print(x, \"it is a vowel\")\n",
    "else:\n",
    "    print(x, \"it is not a vowel\")\n",
    "\n"
   ]
  },
  {
   "cell_type": "code",
   "execution_count": 24,
   "metadata": {},
   "outputs": [
    {
     "name": "stdout",
     "output_type": "stream",
     "text": [
      "2 it is not number in list\n"
     ]
    }
   ],
   "source": [
    "#EXCERCISE 10\n",
    "num = [1, 2, 3, 4, 5, 6, 7, 8, 9, 10]\n",
    "x = int(input(\"wnter a number:\"))\n",
    "\n",
    "if x in vowel:\n",
    "    print(x, \"it is a number in list\")\n",
    "else:\n",
    "    print(x, \"it is not number in list\")"
   ]
  },
  {
   "cell_type": "code",
   "execution_count": 2,
   "metadata": {},
   "outputs": [
    {
     "data": {
      "image/png": "[encoded data removed]",
      "text/plain": [
       "<Figure size 432x288 with 1 Axes>"
      ]
     },
     "metadata": {
      "needs_background": "light"
     },
     "output_type": "display_data"
    },
    {
     "data": {
      "image/png": "[encoded data removed]",
      "text/plain": [
       "<Figure size 432x288 with 1 Axes>"
      ]
     },
     "metadata": {
      "needs_background": "light"
     },
     "output_type": "display_data"
    },
    {
     "data": {
      "image/png": "[encoded data removed]",
      "text/plain": [
       "<Figure size 432x288 with 1 Axes>"
      ]
     },
     "metadata": {
      "needs_background": "light"
     },
     "output_type": "display_data"
    },
    {
     "data": {
      "image/png": "[encoded data removed]",
      "text/plain": [
       "<Figure size 432x288 with 1 Axes>"
      ]
     },
     "metadata": {
      "needs_background": "light"
     },
     "output_type": "display_data"
    },
    {
     "data": {
      "image/png": "[encoded data removed]",
      "text/plain": [
       "<Figure size 432x288 with 1 Axes>"
      ]
     },
     "metadata": {
      "needs_background": "light"
     },
     "output_type": "display_data"
    }
   ],
   "source": [
    "#EXCERCISE 11 (matplotlib)\n",
    "import matplotlib.pyplot as plt\n",
    "\n",
    "x = int(input(\"enter a number:\"))\n",
    "for y in range(0, x + 1):\n",
    "    plt.hist(y)\n",
    "    plt.show(y)\n"
   ]
  },
  {
   "cell_type": "code",
   "execution_count": 2,
   "metadata": {},
   "outputs": [
    {
     "name": "stdout",
     "output_type": "stream",
     "text": [
      "386,462,418,344,236,566,978,328,162,758,918,412,566,826,248,866,950,626,104,58,512,24,892,894,742,958,"
     ]
    }
   ],
   "source": [
    "#EXCERCISE 12\n",
    "numbers = [\n",
    "386, 462, 47, 418, 907, 344, 236, 375, 823, 566, 597, 978, 328, 615, 953, 345,\n",
    "399, 162, 758, 219, 918, 237, 412, 566, 826, 248, 866, 950, 626, 949, 687, 217,\n",
    "815, 67, 104, 58, 512, 24, 892, 894, 767, 553, 81, 379, 843, 831, 445, 742, 717,\n",
    "958,743, 527 ]\n",
    "\n",
    "for x in numbers: \n",
    "    if x % 2 == 0:\n",
    "        print(x, end=',')"
   ]
  },
  {
   "cell_type": "code",
   "execution_count": 31,
   "metadata": {},
   "outputs": [
    {
     "name": "stdout",
     "output_type": "stream",
     "text": [
      "the area of the tirangle is: 5.0\n"
     ]
    }
   ],
   "source": [
    "#EXCERCISE 13\n",
    "base = eval(input(\"enter the base of the triangle:\"))\n",
    "height = eval(input(\"enter the height of the triangle:\"))\n",
    "\n",
    "area = (base * height)/2\n",
    "\n",
    "print(\"the area of the tirangle is:\", area)"
   ]
  },
  {
   "cell_type": "code",
   "execution_count": null,
   "metadata": {},
   "outputs": [],
   "source": [
    "#EXCERCISE 14\n",
    "x = int(input(\"enter number:\"))\n",
    "y = int(input(\"enter number:\"))\n",
    "z = x * y\n",
    "for n in range(1, z + 1):\n",
    "    if n % x == 0 and n % y == 0:\n",
    "        print(n)\n"
   ]
  },
  {
   "cell_type": "code",
   "execution_count": 8,
   "metadata": {},
   "outputs": [
    {
     "name": "stdout",
     "output_type": "stream",
     "text": [
      "6\n"
     ]
    }
   ],
   "source": [
    "#EXCERCISE 15\n",
    "x = int(input(\"enter a number:\"))\n",
    "y = int(input(\"enter a number:\"))\n",
    "z = int(input(\"enter a number:\"))\n",
    "\n",
    "sum = x + y + z\n",
    "\n",
    "if x == y or y == z or x == z:\n",
    "    print(sum - sum)\n",
    "else: \n",
    "    print(sum)\n",
    "    "
   ]
  },
  {
   "cell_type": "code",
   "execution_count": 25,
   "metadata": {},
   "outputs": [
    {
     "name": "stdout",
     "output_type": "stream",
     "text": [
      "(2 + 3)^2 = 25 \n"
     ]
    }
   ],
   "source": [
    "#EXCERCISE 16\n",
    "x = int(input(\"enter a number:\"))\n",
    "y = int(input(\"enter a number:\"))\n",
    "solve = (x + y)**2\n",
    "print(f\"({x} + {y})^2 = {solve} \")\n",
    "\n",
    "\n"
   ]
  },
  {
   "cell_type": "code",
   "execution_count": 11,
   "metadata": {},
   "outputs": [
    {
     "name": "stdout",
     "output_type": "stream",
     "text": [
      "12722.79\n"
     ]
    }
   ],
   "source": [
    "#EXCERCISE 17 \n",
    "a = int(input(\"enter the ammount value:\"))\n",
    "roi = eval(input(\"enter the rate of interest:\"))\n",
    "yrs = int(input(\"enter the number of years:\"))\n",
    "\n",
    "future = a * ((1+ (0.01 * roi)))**yrs\n",
    "print(round(future, 2))"
   ]
  },
  {
   "cell_type": "code",
   "execution_count": 4,
   "metadata": {},
   "outputs": [
    {
     "name": "stdout",
     "output_type": "stream",
     "text": [
      "2.8284271247461903\n"
     ]
    }
   ],
   "source": [
    "#EXCERCISE 18\n",
    "import math\n",
    "x1 = eval(input(\"enter the first x number:\"))\n",
    "y1 = eval(input(\"enter the first y number:\"))\n",
    "x2 = eval(input(\"enter the second x number:\"))\n",
    "y2 = eval(input(\"enter the second y number:\"))\n",
    "r = [x1, y1]\n",
    "q = [x2, y2]\n",
    "print(math.dist(r, q))\n",
    "\n"
   ]
  },
  {
   "cell_type": "code",
   "execution_count": 5,
   "metadata": {},
   "outputs": [
    {
     "name": "stdout",
     "output_type": "stream",
     "text": [
      "10.0\n"
     ]
    }
   ],
   "source": [
    "#EXCERCISE 19\n",
    "x = int(input(\"enter a number:\"))\n",
    "solve = (x * (x + 1))/2\n",
    "print(solve)"
   ]
  },
  {
   "cell_type": "code",
   "execution_count": 40,
   "metadata": {},
   "outputs": [
    {
     "name": "stdout",
     "output_type": "stream",
     "text": [
      "170.18\n"
     ]
    }
   ],
   "source": [
    "#EXCERCISE 20\n",
    "h1 = eval(input(\"enter height in foot:\"))\n",
    "h2 = eval(input(\"enter height in inches:\"))\n",
    "convert = (h1*12)+h2\n",
    "print(convert * 2.54)\n"
   ]
  },
  {
   "cell_type": "code",
   "execution_count": 15,
   "metadata": {},
   "outputs": [
    {
     "name": "stdout",
     "output_type": "stream",
     "text": [
      "8.602325267042627\n"
     ]
    }
   ],
   "source": [
    "#EXCERCISE 21\n",
    "from math import sqrt\n",
    "\n",
    "x = eval(input(\"enter base value:\"))\n",
    "y = eval(input(\"enter height value:\"))\n",
    "print(sqrt(x**2 + y**2))\n"
   ]
  },
  {
   "cell_type": "code",
   "execution_count": 36,
   "metadata": {},
   "outputs": [
    {
     "name": "stdout",
     "output_type": "stream",
     "text": [
      "your BMI is: 20.061728395061728\n"
     ]
    }
   ],
   "source": [
    "#EXCERCISE 22\n",
    "height = eval(input(\"enter height in cm:\"))\n",
    "weight = eval(input(\"enter weight in kg:\"))\n",
    "BMI = weight / ((height/100)**2)\n",
    "print(\"your BMI is:\", BMI)\n"
   ]
  },
  {
   "cell_type": "code",
   "execution_count": 6,
   "metadata": {},
   "outputs": [
    {
     "name": "stdout",
     "output_type": "stream",
     "text": [
      "(3.0, 5.0)\n"
     ]
    }
   ],
   "source": [
    "#EXCERCISE 23\n",
    "x1 = eval(input(\"enter the first x number:\"))\n",
    "y1 = eval(input(\"enter the first y number:\"))\n",
    "x2 = eval(input(\"enter the second x number:\"))\n",
    "y2 = eval(input(\"enter the second y number:\"))\n",
    "\n",
    "mp = (x1 + x2)/2, (y1 + y2)/2\n",
    "print(mp)"
   ]
  },
  {
   "cell_type": "code",
   "execution_count": 8,
   "metadata": {},
   "outputs": [
    {
     "name": "stdout",
     "output_type": "stream",
     "text": [
      "2002,2009,2016,2023,2037,2044,2051,2058,2072,2079,2086,2093,2107,2114,2121,2128,2142,2149,2156,2163,2177,2184,2191,2198,2212,2219,2226,2233,2247,2254,2261,2268,2282,2289,2296,2303,2317,2324,2331,2338,2352,2359,2366,2373,2387,2394,2401,2408,2422,2429,2436,2443,2457,2464,2471,2478,2492,2499,2506,2513,2527,2534,2541,2548,2562,2569,2576,2583,2597,2604,2611,2618,2632,2639,2646,2653,2667,2674,2681,2688,2702,2709,2716,2723,2737,2744,2751,2758,2772,2779,2786,2793,2807,2814,2821,2828,2842,2849,2856,2863,2877,2884,2891,2898,2912,2919,2926,2933,2947,2954,2961,2968,2982,2989,2996,3003,3017,3024,3031,3038,3052,3059,3066,3073,3087,3094,3101,3108,3122,3129,3136,3143,3157,3164,3171,3178,3192,3199,"
     ]
    }
   ],
   "source": [
    "#EXCERCISE 24\n",
    "for x in range(2000, 3201):\n",
    "    if x % 7 == 0 and not x % 5 == 0:\n",
    "        print(x, end=\",\")"
   ]
  }
 ],
 "metadata": {
  "kernelspec": {
   "display_name": "Python 3.9.12 ('base')",
   "language": "python",
   "name": "python3"
  },
  "language_info": {
   "codemirror_mode": {
    "name": "ipython",
    "version": 3
   },
   "file_extension": ".py",
   "mimetype": "text/x-python",
   "name": "python",
   "nbconvert_exporter": "python",
   "pygments_lexer": "ipython3",
   "version": "3.9.12"
  },
  "orig_nbformat": 4,
  "vscode": {
   "interpreter": {
    "hash": "18af834363b63d00c89ebd80be409b502ab5640437a3b4b7cf118904f1a56694"
   }
  }
 },
 "nbformat": 4,
 "nbformat_minor": 2
}
