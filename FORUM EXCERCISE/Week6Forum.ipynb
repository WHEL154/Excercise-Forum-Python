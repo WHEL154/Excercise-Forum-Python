{
 "cells": [
  {
   "cell_type": "code",
   "execution_count": 4,
   "metadata": {},
   "outputs": [
    {
     "name": "stdout",
     "output_type": "stream",
     "text": [
      "{'gold': 550, 'pouch': ['flint', 'twine', 'gemstone'], 'backpack': ['bedroll', 'bread loaf', 'xylophone'], 'pocket': ['seashell', 'strange berry', 'lint']}\n"
     ]
    }
   ],
   "source": [
    "# no. 1\n",
    "\n",
    "inventory = {\n",
    "'gold' : 500,\n",
    "'pouch' : ['flint', 'twine', 'gemstone'],\n",
    "'backpack' : ['xylophone','dagger', 'bedroll','bread loaf']\n",
    "}\n",
    "\n",
    "inventory[\"pocket\"] = [\"seashell\", \"strange berry\", \"lint\"]\n",
    "inventory[\"backpack\"].sort()\n",
    "inventory[\"backpack\"].remove(\"dagger\")\n",
    "inventory[\"gold\"] = inventory[\"gold\"] + 50\n",
    "\n",
    "print(inventory)\n"
   ]
  },
  {
   "cell_type": "code",
   "execution_count": 5,
   "metadata": {},
   "outputs": [
    {
     "name": "stdout",
     "output_type": "stream",
     "text": [
      "banana\n",
      "prices: 2\n",
      "stocks: 6\n",
      "apple\n",
      "prices: 2\n",
      "stocks: 0\n",
      "orange\n",
      "prices: 1.5\n",
      "stocks: 32\n",
      "pear\n",
      "prices: 3\n",
      "stocks: 15\n",
      "Total: 105.0\n"
     ]
    }
   ],
   "source": [
    "# no. 2\n",
    "\n",
    "price = {\n",
    "'banana' : 2,\n",
    "'apple' : 2,\n",
    "'orange' : 1.5,\n",
    "'pear' : 3\n",
    "}\n",
    "\n",
    "stock = {\n",
    "\"banana\": 6,\n",
    "\"apple\": 0,\n",
    "\"orange\": 32,\n",
    "\"pear\": 15\n",
    "}\n",
    "\n",
    "for x in price.keys():\n",
    "    print(x)\n",
    "    print(\"prices:\", price[x])\n",
    "    print(\"stocks:\", stock[x])\n",
    "\n",
    "total = 0\n",
    "\n",
    "for y in price.keys():\n",
    "    prices = price[y] * stock[y]\n",
    "    total = total + prices\n",
    "\n",
    "print(\"Total:\", total)\n",
    "\n",
    "\n",
    "\n",
    "\n"
   ]
  },
  {
   "cell_type": "code",
   "execution_count": 9,
   "metadata": {},
   "outputs": [
    {
     "data": {
      "text/plain": [
       "5.5"
      ]
     },
     "execution_count": 9,
     "metadata": {},
     "output_type": "execute_result"
    }
   ],
   "source": [
    "# no. 3\n",
    "\n",
    "price = {\n",
    "'banana' : 2,\n",
    "'apple' : 2,\n",
    "'orange' : 1.5,\n",
    "'pear' : 3\n",
    "}\n",
    "\n",
    "stock = {\n",
    "\"banana\": 6,\n",
    "\"apple\": 0,\n",
    "\"orange\": 32,\n",
    "\"pear\": 15\n",
    "}\n",
    "\n",
    "groceries = [\"banana\", \"apple\", \"orange\"]\n",
    "\n",
    "def compute_bill(fruit):\n",
    "    total = 0\n",
    "    for x in fruit:\n",
    "        if x in fruit:\n",
    "            total += price[x]\n",
    "            stock[x] -= 1\n",
    "    return total\n",
    "\n",
    "compute_bill(groceries)\n",
    "\n"
   ]
  },
  {
   "cell_type": "code",
   "execution_count": 15,
   "metadata": {},
   "outputs": [
    {
     "name": "stdout",
     "output_type": "stream",
     "text": [
      "name Eren\n",
      "name Mikasa\n",
      "name Armin\n",
      "Eren's grade letter: C\n",
      "student class average is: 79.9\n",
      "student class letter grade is: C\n"
     ]
    }
   ],
   "source": [
    "# no. 4\n",
    "\n",
    "eren = {\n",
    "\"name\": \"Eren\",\n",
    "\"homework\": [90.0,97.0,75.0,92.0],\n",
    "\"quizzes\": [88.0,40.0,94.0],\n",
    "\"tests\": [75.0,90.0]\n",
    "}\n",
    "\n",
    "mikasa = {\n",
    "\"name\": \"Mikasa\",\n",
    "\"homework\": [100.0, 92.0, 98.0, 100.0],\n",
    "\"quizzes\": [82.0, 83.0, 91.0],\n",
    "\"tests\": [89.0, 97.0]\n",
    "}\n",
    "\n",
    "armin = {\n",
    "\"name\": \"Armin\",\n",
    "\"homework\": [0.0, 87.0, 75.0, 22.0],\n",
    "\"quizzes\": [0.0, 75.0, 78.0],\n",
    "\"tests\": [100.0, 100.0]\n",
    "}\n",
    "\n",
    "students = [\"eren\", \"mikasa\", \"armin\"]\n",
    "\n",
    "for v in students:\n",
    "    print(\"name\", eval(v + \"['name']\")) \n",
    "\n",
    "def average(numbers):\n",
    "    total = sum(numbers)\n",
    "    return total/len(numbers)\n",
    "\n",
    "def get_average(students):\n",
    "    homework = average(eval(v + \"['homework']\"))\n",
    "    quizzes = average(eval(v + \"['quizzes']\"))\n",
    "    tests = average(eval(v + \"['tests']\"))\n",
    "    totalsum = (homework * 0.1) + (quizzes * 0.3) + (tests * 0.6)\n",
    "    return totalsum\n",
    "\n",
    "def get_letter_grade(score : float):\n",
    "    \n",
    "    if score >= 90:\n",
    "        return \"A\"\n",
    "    elif score >= 80:\n",
    "        return \"B\"\n",
    "    elif score >= 70:\n",
    "        return \"C\"\n",
    "    elif score >= 60:\n",
    "        return \"D\"\n",
    "    else:\n",
    "        return \"F\"\n",
    "\n",
    "print(\"Eren's grade letter:\",get_letter_grade(get_average(eren)))\n",
    "\n",
    "\n",
    "def get_class_average(students = [\"eren\", \"mikasa\", \"armin\"]):\n",
    "    result = []\n",
    "    for z in students:\n",
    "        result.append(get_average(z))\n",
    "    return average(result)\n",
    "\n",
    "print(\"student class average is:\", get_class_average(students))\n",
    "print(\"student class letter grade is:\", get_letter_grade(get_class_average(students)))\n",
    "\n",
    "\n",
    "\n",
    "\n",
    "\n",
    "\n",
    "\n"
   ]
  }
 ],
 "metadata": {
  "kernelspec": {
   "display_name": "Python 3.10.6 64-bit",
   "language": "python",
   "name": "python3"
  },
  "language_info": {
   "codemirror_mode": {
    "name": "ipython",
    "version": 3
   },
   "file_extension": ".py",
   "mimetype": "text/x-python",
   "name": "python",
   "nbconvert_exporter": "python",
   "pygments_lexer": "ipython3",
   "version": "3.10.6"
  },
  "orig_nbformat": 4,
  "vscode": {
   "interpreter": {
    "hash": "fb4569285eef3a3450cb62085a5b1e0da4bce0af555edc33dcf29baf3acc1368"
   }
  }
 },
 "nbformat": 4,
 "nbformat_minor": 2
}
